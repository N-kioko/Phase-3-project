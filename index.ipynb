{
 "cells": [
  {
   "cell_type": "markdown",
   "metadata": {},
   "source": [
    "## Table of Contents\n",
    "\n",
    "- Introduction\n",
    "- Business Problem\n",
    "- Objectives\n",
    "- Data Understanding\n",
    "- Data Preparation"
   ]
  },
  {
   "cell_type": "markdown",
   "metadata": {},
   "source": [
    "## 1. INTRODUCTION\n",
    "\n",
    "### In the telecommunications industry , alot of factors contributre to customer churn. SAome of the factors include, quality of service provison,  customer  service effectivceness, and competion from service providers. Employing predictive models such as logistice regression  and decission trees can enhance the sevice providers to easily anticipate churt and  put in place measures to conteract loss of clients."
   ]
  },
  {
   "cell_type": "markdown",
   "metadata": {},
   "source": [
    "## 2. BUSINESS PROBLEM\n",
    "\n",
    "#### Customer retention is one of the key factor in  growth sustenance for any telecomunication  firm. Therefore customer churn; Aphenomena whereby a customer stops to utilize  company services,stands to be one of   greatest threat for any telecom firm. This study  explores predictive analysis to explore various factors contributing to customer churn. As well as employing data-driven approach to predict likelihood of customers churn based on various characteristics."
   ]
  },
  {
   "cell_type": "markdown",
   "metadata": {},
   "source": [
    "## 3. OBJECTIVES\n",
    "\n",
    "#### 1. Understand the customer churn rate\n",
    "\n",
    "#### 2. Identify the most influential factors contributing to customer churn\n",
    "\n",
    "#### 3. Develop a predictive model that can accurately predict the likelihood of customers churn based on their past behavior and characteristics.\n",
    "\n"
   ]
  },
  {
   "cell_type": "markdown",
   "metadata": {},
   "source": [
    "## 4. DATA UNDERSTANDING\n",
    "\n",
    "#### 1. Dataset: The dataset used in this study is from Kaggle, https://www.kaggle.com/datasets/mnassrib/telecom-churn-datasets. The dataset contains 3333 observations with 20 variables. The variables include:\n",
    "\n",
    "#### **State:** Categorical variable indicating the customer's state.\n",
    "#### **Account length:** Numeric variable indicating the length of the customer account.\n",
    "#### **Area code:** Numeric variable indicating the area code of the\n",
    "#### **Phone number:** Categorical variable (likely to be excluded as it won't contribute to churn prediction).\n",
    "#### **International plan:**  Categorical variable indicating if the customer has an international plan.\n",
    "#### **Voice mail plan:** Categorical variable indicating if the customer has a voicemail plan.\n",
    "#### **Number vmail messages:** Numeric variable indicating the number of voicemail messages.\n",
    "#### **Total day minutes:** Numeric variables indicating usage minutes in various time segments.\n",
    "#### **Total day calls:**\n",
    "#### **Total day charge:**\n",
    "#### **Total eve minutes:** Numeric variables indicating usage minutes in various time segments.\n",
    "#### **Total eve calls:** \n",
    "#### **Total eve charge:**\n",
    "#### **Total night minutes:** Numeric variables indicating usage minutes in various time segments.\n",
    "#### **Total night calls:**\n",
    "#### **Total night charge:**\n",
    "#### **Total intl minutes:** Numeric variables indicating usage minutes in various time segments.\n",
    "#### **Total intl calls:**\n",
    "#### **Total intl charge:**\n",
    "#### **Customer service calls:**\n",
    "#### **Churn:** Binary target variable indicating customer churn (True/False).\n",
    "\n",
    "#### The variables in the dataset will enable us to explore connection between various cosmuner habits and churn.\n"
   ]
  },
  {
   "cell_type": "markdown",
   "metadata": {},
   "source": [
    "## 5. DATA PREPARATION"
   ]
  },
  {
   "cell_type": "markdown",
   "metadata": {},
   "source": [
    "#### **Importing  Packages**"
   ]
  },
  {
   "cell_type": "code",
   "execution_count": 2,
   "metadata": {},
   "outputs": [],
   "source": [
    "import pandas as pd \n",
    "from sklearn.model_selection import train_test_split\n",
    "from sklearn.impute import SimpleImputer\n",
    "from sklearn.preprocessing import OneHotEncoder\n",
    "from sklearn.linear_model import LogisticRegression\n",
    "import numpy as np"
   ]
  },
  {
   "cell_type": "markdown",
   "metadata": {},
   "source": [
    "#### **EXPLORATORY DATA ANALYSIS**"
   ]
  },
  {
   "cell_type": "markdown",
   "metadata": {},
   "source": [
    "**Loading Data**"
   ]
  },
  {
   "cell_type": "code",
   "execution_count": 3,
   "metadata": {},
   "outputs": [
    {
     "name": "stdout",
     "output_type": "stream",
     "text": [
      "       account length  area code phone number international plan  \\\n",
      "state                                                              \n",
      "KS                128        415     382-4657                 no   \n",
      "OH                107        415     371-7191                 no   \n",
      "NJ                137        415     358-1921                 no   \n",
      "OH                 84        408     375-9999                yes   \n",
      "OK                 75        415     330-6626                yes   \n",
      "\n",
      "      voice mail plan  number vmail messages  total day minutes  \\\n",
      "state                                                             \n",
      "KS                yes                     25              265.1   \n",
      "OH                yes                     26              161.6   \n",
      "NJ                 no                      0              243.4   \n",
      "OH                 no                      0              299.4   \n",
      "OK                 no                      0              166.7   \n",
      "\n",
      "       total day calls  total day charge  total eve minutes  total eve calls  \\\n",
      "state                                                                          \n",
      "KS                 110             45.07              197.4               99   \n",
      "OH                 123             27.47              195.5              103   \n",
      "NJ                 114             41.38              121.2              110   \n",
      "OH                  71             50.90               61.9               88   \n",
      "OK                 113             28.34              148.3              122   \n",
      "\n",
      "       total eve charge  total night minutes  total night calls  \\\n",
      "state                                                             \n",
      "KS                16.78                244.7                 91   \n",
      "OH                16.62                254.4                103   \n",
      "NJ                10.30                162.6                104   \n",
      "OH                 5.26                196.9                 89   \n",
      "OK                12.61                186.9                121   \n",
      "\n",
      "       total night charge  total intl minutes  total intl calls  \\\n",
      "state                                                             \n",
      "KS                  11.01                10.0                 3   \n",
      "OH                  11.45                13.7                 3   \n",
      "NJ                   7.32                12.2                 5   \n",
      "OH                   8.86                 6.6                 7   \n",
      "OK                   8.41                10.1                 3   \n",
      "\n",
      "       total intl charge  customer service calls  churn  \n",
      "state                                                    \n",
      "KS                  2.70                       1  False  \n",
      "OH                  3.70                       1  False  \n",
      "NJ                  3.29                       0  False  \n",
      "OH                  1.78                       2  False  \n",
      "OK                  2.73                       3  False  \n",
      "--------------------\n",
      "(3333, 20)\n"
     ]
    }
   ],
   "source": [
    "import pandas as pd\n",
    "df= pd.read_csv(\"Data/bigml_59c28831336c6604c800002a.csv\", index_col=0)\n",
    "print(df.head())\n",
    "print(\"--------------------\")\n",
    "print(df.shape)"
   ]
  },
  {
   "cell_type": "code",
   "execution_count": 4,
   "metadata": {},
   "outputs": [],
   "source": [
    "#drop the hone number column\n",
    "df.drop(\"phone number\",axis=1,inplace=True)"
   ]
  },
  {
   "cell_type": "markdown",
   "metadata": {},
   "source": [
    "**Checking for Missing values**"
   ]
  },
  {
   "cell_type": "markdown",
   "metadata": {},
   "source": [
    "The data set contains no missing values "
   ]
  },
  {
   "cell_type": "code",
   "execution_count": 5,
   "metadata": {},
   "outputs": [
    {
     "data": {
      "text/plain": [
       "account length            0\n",
       "area code                 0\n",
       "international plan        0\n",
       "voice mail plan           0\n",
       "number vmail messages     0\n",
       "total day minutes         0\n",
       "total day calls           0\n",
       "total day charge          0\n",
       "total eve minutes         0\n",
       "total eve calls           0\n",
       "total eve charge          0\n",
       "total night minutes       0\n",
       "total night calls         0\n",
       "total night charge        0\n",
       "total intl minutes        0\n",
       "total intl calls          0\n",
       "total intl charge         0\n",
       "customer service calls    0\n",
       "churn                     0\n",
       "dtype: int64"
      ]
     },
     "execution_count": 5,
     "metadata": {},
     "output_type": "execute_result"
    }
   ],
   "source": [
    "df.isna().sum()"
   ]
  },
  {
   "cell_type": "markdown",
   "metadata": {},
   "source": [
    " **Checking Data Types**"
   ]
  },
  {
   "cell_type": "code",
   "execution_count": 6,
   "metadata": {},
   "outputs": [
    {
     "name": "stdout",
     "output_type": "stream",
     "text": [
      "<class 'pandas.core.frame.DataFrame'>\n",
      "Index: 3333 entries, KS to TN\n",
      "Data columns (total 19 columns):\n",
      " #   Column                  Non-Null Count  Dtype  \n",
      "---  ------                  --------------  -----  \n",
      " 0   account length          3333 non-null   int64  \n",
      " 1   area code               3333 non-null   int64  \n",
      " 2   international plan      3333 non-null   object \n",
      " 3   voice mail plan         3333 non-null   object \n",
      " 4   number vmail messages   3333 non-null   int64  \n",
      " 5   total day minutes       3333 non-null   float64\n",
      " 6   total day calls         3333 non-null   int64  \n",
      " 7   total day charge        3333 non-null   float64\n",
      " 8   total eve minutes       3333 non-null   float64\n",
      " 9   total eve calls         3333 non-null   int64  \n",
      " 10  total eve charge        3333 non-null   float64\n",
      " 11  total night minutes     3333 non-null   float64\n",
      " 12  total night calls       3333 non-null   int64  \n",
      " 13  total night charge      3333 non-null   float64\n",
      " 14  total intl minutes      3333 non-null   float64\n",
      " 15  total intl calls        3333 non-null   int64  \n",
      " 16  total intl charge       3333 non-null   float64\n",
      " 17  customer service calls  3333 non-null   int64  \n",
      " 18  churn                   3333 non-null   bool   \n",
      "dtypes: bool(1), float64(8), int64(8), object(2)\n",
      "memory usage: 498.0+ KB\n",
      "None\n"
     ]
    }
   ],
   "source": [
    "print(df.info())"
   ]
  },
  {
   "cell_type": "markdown",
   "metadata": {},
   "source": [
    "**Defining X and Y variables**"
   ]
  },
  {
   "cell_type": "code",
   "execution_count": 7,
   "metadata": {},
   "outputs": [],
   "source": [
    "X=df.drop(\"churn\",axis=1)\n",
    "y=df[\"churn\"]"
   ]
  },
  {
   "cell_type": "markdown",
   "metadata": {},
   "source": [
    "**Performing test train split**"
   ]
  },
  {
   "cell_type": "code",
   "execution_count": 8,
   "metadata": {},
   "outputs": [],
   "source": [
    "X_train,X_test,y_train,y_test=train_test_split(X,y,test_size=0.5,random_state=42)"
   ]
  },
  {
   "cell_type": "markdown",
   "metadata": {},
   "source": [
    "## 6. PREPROCESSING"
   ]
  },
  {
   "cell_type": "markdown",
   "metadata": {},
   "source": [
    " **Selecting categorical variables**"
   ]
  },
  {
   "cell_type": "code",
   "execution_count": 9,
   "metadata": {},
   "outputs": [],
   "source": [
    "X_train_cat = X_train.select_dtypes(include=\"object\")\n",
    "X_train_num = X_train.select_dtypes(exclude=\"object\")\n",
    "X_test_cat = X_test.select_dtypes(include=\"object\")\n",
    "X_test_num = X_test.select_dtypes(exclude=\"object\")"
   ]
  },
  {
   "cell_type": "markdown",
   "metadata": {},
   "source": [
    "**One hot encoding**"
   ]
  },
  {
   "cell_type": "code",
   "execution_count": 10,
   "metadata": {},
   "outputs": [],
   "source": [
    "Ohe = OneHotEncoder(sparse_output=False, handle_unknown=\"ignore\")\n",
    "X_train_cat_ohe =Ohe.fit_transform(X_train_cat)\n",
    "X_test_cat_ohe =Ohe.transform(X_test_cat)"
   ]
  },
  {
   "cell_type": "markdown",
   "metadata": {},
   "source": [
    "**Creating Dataframes**"
   ]
  },
  {
   "cell_type": "code",
   "execution_count": 11,
   "metadata": {},
   "outputs": [
    {
     "data": {
      "text/html": [
       "<div>\n",
       "<style scoped>\n",
       "    .dataframe tbody tr th:only-of-type {\n",
       "        vertical-align: middle;\n",
       "    }\n",
       "\n",
       "    .dataframe tbody tr th {\n",
       "        vertical-align: top;\n",
       "    }\n",
       "\n",
       "    .dataframe thead th {\n",
       "        text-align: right;\n",
       "    }\n",
       "</style>\n",
       "<table border=\"1\" class=\"dataframe\">\n",
       "  <thead>\n",
       "    <tr style=\"text-align: right;\">\n",
       "      <th></th>\n",
       "      <th>no</th>\n",
       "      <th>yes</th>\n",
       "      <th>no</th>\n",
       "      <th>yes</th>\n",
       "    </tr>\n",
       "    <tr>\n",
       "      <th>state</th>\n",
       "      <th></th>\n",
       "      <th></th>\n",
       "      <th></th>\n",
       "      <th></th>\n",
       "    </tr>\n",
       "  </thead>\n",
       "  <tbody>\n",
       "    <tr>\n",
       "      <th>WY</th>\n",
       "      <td>1.0</td>\n",
       "      <td>0.0</td>\n",
       "      <td>1.0</td>\n",
       "      <td>0.0</td>\n",
       "    </tr>\n",
       "    <tr>\n",
       "      <th>IL</th>\n",
       "      <td>1.0</td>\n",
       "      <td>0.0</td>\n",
       "      <td>1.0</td>\n",
       "      <td>0.0</td>\n",
       "    </tr>\n",
       "    <tr>\n",
       "      <th>SD</th>\n",
       "      <td>1.0</td>\n",
       "      <td>0.0</td>\n",
       "      <td>1.0</td>\n",
       "      <td>0.0</td>\n",
       "    </tr>\n",
       "    <tr>\n",
       "      <th>KY</th>\n",
       "      <td>1.0</td>\n",
       "      <td>0.0</td>\n",
       "      <td>1.0</td>\n",
       "      <td>0.0</td>\n",
       "    </tr>\n",
       "    <tr>\n",
       "      <th>WY</th>\n",
       "      <td>1.0</td>\n",
       "      <td>0.0</td>\n",
       "      <td>1.0</td>\n",
       "      <td>0.0</td>\n",
       "    </tr>\n",
       "  </tbody>\n",
       "</table>\n",
       "</div>"
      ],
      "text/plain": [
       "        no  yes   no  yes\n",
       "state                    \n",
       "WY     1.0  0.0  1.0  0.0\n",
       "IL     1.0  0.0  1.0  0.0\n",
       "SD     1.0  0.0  1.0  0.0\n",
       "KY     1.0  0.0  1.0  0.0\n",
       "WY     1.0  0.0  1.0  0.0"
      ]
     },
     "execution_count": 11,
     "metadata": {},
     "output_type": "execute_result"
    }
   ],
   "source": [
    "X_train_cat_ohe_df= pd.DataFrame(X_train_cat_ohe, index=X_train_cat.index,columns= np.hstack(Ohe.categories_))\n",
    "X_test_cat_ohe_df= pd.DataFrame(X_test_cat_ohe, index=X_test_cat.index,columns= np.hstack(Ohe.categories_))\n",
    "X_train_cat_ohe_df.head()\n",
    "X_test_cat_ohe_df.head()"
   ]
  },
  {
   "cell_type": "markdown",
   "metadata": {},
   "source": [
    "**Scaling the Numeric Variables**"
   ]
  },
  {
   "cell_type": "code",
   "execution_count": 12,
   "metadata": {},
   "outputs": [],
   "source": [
    "from sklearn.preprocessing import MinMaxScaler\n",
    "Scaler= MinMaxScaler()\n",
    "X_train_num_scaled= Scaler.fit_transform(X_train_num)\n",
    "X_test_num_scaled = Scaler.transform(X_test_num)\n"
   ]
  },
  {
   "cell_type": "markdown",
   "metadata": {},
   "source": [
    "**Creating Final X_train Dataset**\n",
    "- This step involves converting the both scaled and encoded data iinto dataframes to enable merging and creation of the final x_train dataset for modelling purposes"
   ]
  },
  {
   "cell_type": "code",
   "execution_count": 13,
   "metadata": {},
   "outputs": [
    {
     "name": "stdout",
     "output_type": "stream",
     "text": [
      "(1666, 20)\n",
      "(1667, 20)\n"
     ]
    }
   ],
   "source": [
    "X_train_cat_ohe_df= pd.DataFrame(X_train_cat_ohe, index=X_train_cat.index,columns= np.hstack(Ohe.categories_))\n",
    "X_train_num_scaled_df = pd.DataFrame(X_train_num_scaled, index=X_train_num.index, columns=X_train_num.columns)\n",
    "X_test_cat_ohe_df= pd.DataFrame(X_test_cat_ohe, index=X_test_cat.index,columns= np.hstack(Ohe.categories_))\n",
    "X_test_num_scaled_df = pd.DataFrame(X_test_num_scaled, index=X_test_num.index, columns=X_test_num.columns)\n",
    "X_train_final_df = pd.concat([X_train_num, X_train_cat_ohe_df], axis=1)\n",
    "X_test_final_df = pd.concat([X_test_num, X_test_cat_ohe_df], axis=1)\n",
    "print(X_train_final_df.shape)\n",
    "print(X_test_final_df.shape)\n",
    "\n",
    "#print (X_train_cat_ohe_df.shape)\n",
    "#print(X_train_num_scaled_df.shape)\n",
    "#X_train_final_df = pd.concat([X_train_num, X_train_cat_ohe_df], axis=1)\n",
    "#print(X_train_final_df.shape)\n",
    "#drop the second row\n",
    "#X_train_final_df.drop(X_train_final_df.index[1], inplace=True)\n",
    "#_train_final_df.head()\n"
   ]
  },
  {
   "cell_type": "markdown",
   "metadata": {},
   "source": [
    "#### 7. MODELLING"
   ]
  },
  {
   "cell_type": "markdown",
   "metadata": {},
   "source": [
    "**Fitting the logistic regression model**\n",
    "\n",
    "This step involves creating a model that uses the logistic regression algorithm to predict Churn among the telcom cleints. first we define/instantiate the model and then fit the training data.\n"
   ]
  },
  {
   "cell_type": "code",
   "execution_count": 14,
   "metadata": {},
   "outputs": [],
   "source": [
    "#Instantiate the model\n",
    "LogisticRegressionModel = LogisticRegression(fit_intercept=False, solver= 'liblinear',max_iter=2000)\n",
    "#Fit the model\n",
    "Baseline_model = LogisticRegressionModel.fit(X_train_final_df, y_train)"
   ]
  },
  {
   "cell_type": "markdown",
   "metadata": {},
   "source": [
    "**Prediction**\n",
    "\n",
    "This step involves making predictions on the test data using the model that we just trained."
   ]
  },
  {
   "cell_type": "code",
   "execution_count": 15,
   "metadata": {},
   "outputs": [],
   "source": [
    "y_train_pred = Baseline_model.predict(X_train_final_df)\n",
    "y_test_pred = Baseline_model.predict(X_test_final_df)"
   ]
  },
  {
   "cell_type": "markdown",
   "metadata": {},
   "source": [
    "#### 8. EVALUATION"
   ]
  },
  {
   "cell_type": "code",
   "execution_count": 17,
   "metadata": {},
   "outputs": [
    {
     "name": "stdout",
     "output_type": "stream",
     "text": [
      "Train precision: 0.568\n",
      "Test precision: 0.579\n",
      "-------------------------------------------\n",
      "Train recall: 0.180\n",
      "Test recall: 0.176\n",
      "-------------------------------------------\n",
      "Train accuracy: 0.866\n",
      "Test accuracy: 0.857\n",
      "-------------------------------------------\n",
      "Train f1: 0.274\n",
      "Test f1: 0.270\n"
     ]
    }
   ],
   "source": [
    "from sklearn.metrics import precision_score, recall_score, accuracy_score, f1_score\n",
    "\n",
    "print('Train precision: %.3f' % precision_score(y_train, y_train_pred))\n",
    "print('Test precision: %.3f' % precision_score(y_test, y_test_pred))\n",
    "print(\"-------------------------------------------\")\n",
    "print('Train recall: %.3f' % recall_score(y_train, y_train_pred))\n",
    "print('Test recall: %.3f' % recall_score(y_test, y_test_pred))\n",
    "print(\"-------------------------------------------\")\n",
    "print('Train accuracy: %.3f' % accuracy_score(y_train, y_train_pred))\n",
    "print('Test accuracy: %.3f' % accuracy_score(y_test, y_test_pred))\n",
    "print(\"-------------------------------------------\")\n",
    "print('Train f1: %.3f' % f1_score(y_train, y_train_pred))\n",
    "print('Test f1: %.3f' % f1_score(y_test, y_test_pred))\n"
   ]
  },
  {
   "cell_type": "markdown",
   "metadata": {},
   "source": [
    "**Below is a brief description of the evaluation metrics of the baseline model:**\n",
    "\n",
    "**Precision: Train: 0.568, Test: 0.579**\n",
    "\n",
    "The precision values for both the train and test sets are similar, which suggests that the model has a consistent rate of correctly identifying positive instances across both sets. However, the precision is relatively low, indicating that a significant number of predicted positives are actually false positives.\n",
    "\n",
    "**Recall: Train: 0.180 Test: 0.176**\n",
    "\n",
    "The recall values are quite low for both train and test sets, which means the model is missing a large number of actual positive instances. This might suggest that the model is not very sensitive and is underfitting the positive class.\n",
    "\n",
    "**Accuracy: Train: 0.866 Test: 0.857**\n",
    "\n",
    "The accuracy is relatively high, but this might be misleading if the dataset is imbalanced (i.e., there are many more negatives than positives). High accuracy in such cases could simply reflect the model's ability to predict the majority class correctly.\n",
    "\n",
    "**F1 Score: Train: 0.274 Test: 0.270**\n",
    "\n",
    "The F1 score, which is the harmonic mean of precision and recall, is quite low for both train and test sets. This indicates a poor balance between precision and recall, reflecting overall weak performance in identifying the positive class."
   ]
  },
  {
   "cell_type": "markdown",
   "metadata": {},
   "source": [
    "#### 9. RECOMENDATIONS"
   ]
  }
 ],
 "metadata": {
  "kernelspec": {
   "display_name": "learn-env",
   "language": "python",
   "name": "python3"
  },
  "language_info": {
   "codemirror_mode": {
    "name": "ipython",
    "version": 3
   },
   "file_extension": ".py",
   "mimetype": "text/x-python",
   "name": "python",
   "nbconvert_exporter": "python",
   "pygments_lexer": "ipython3",
   "version": "3.8.5"
  }
 },
 "nbformat": 4,
 "nbformat_minor": 2
}
